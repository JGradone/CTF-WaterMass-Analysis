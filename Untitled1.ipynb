{
 "cells": [
  {
   "cell_type": "code",
   "execution_count": 15,
   "id": "b8e0cb35-22ac-4267-b56b-f7fde141f36c",
   "metadata": {},
   "outputs": [
    {
     "data": {
      "text/plain": [
       "2.5142857142857142"
      ]
     },
     "execution_count": 15,
     "metadata": {},
     "output_type": "execute_result"
    }
   ],
   "source": [
    "((6*(0.22))/(52.5))*100"
   ]
  },
  {
   "cell_type": "code",
   "execution_count": 8,
   "id": "c2347df1-7b36-4787-b7c5-4caba9453206",
   "metadata": {},
   "outputs": [
    {
     "data": {
      "text/plain": [
       "6.5"
      ]
     },
     "execution_count": 8,
     "metadata": {},
     "output_type": "execute_result"
    }
   ],
   "source": [
    "13/2"
   ]
  },
  {
   "cell_type": "code",
   "execution_count": 9,
   "id": "89e1e0bb-bd7b-4e51-8d7b-0a2258190c70",
   "metadata": {},
   "outputs": [
    {
     "data": {
      "text/plain": [
       "1.32"
      ]
     },
     "execution_count": 9,
     "metadata": {},
     "output_type": "execute_result"
    }
   ],
   "source": [
    "0.22*6"
   ]
  },
  {
   "cell_type": "code",
   "execution_count": 11,
   "id": "d73f3a97-94b8-437f-beee-7d5dc21f61fb",
   "metadata": {},
   "outputs": [
    {
     "data": {
      "text/plain": [
       "2.5142857142857142"
      ]
     },
     "execution_count": 11,
     "metadata": {},
     "output_type": "execute_result"
    }
   ],
   "source": [
    "100*(1.32/52.5)"
   ]
  },
  {
   "cell_type": "code",
   "execution_count": 14,
   "id": "447f4171-b666-44d2-9d00-69df6292f9ed",
   "metadata": {},
   "outputs": [
    {
     "data": {
      "text/plain": [
       "8.133601609657948"
      ]
     },
     "execution_count": 14,
     "metadata": {},
     "output_type": "execute_result"
    }
   ],
   "source": [
    "10.647887323943662-2.5142857142857142"
   ]
  },
  {
   "cell_type": "code",
   "execution_count": null,
   "id": "59c0db5c-c6c6-4d85-ba5f-c6431dbd213a",
   "metadata": {},
   "outputs": [],
   "source": []
  }
 ],
 "metadata": {
  "kernelspec": {
   "display_name": "Python 3 (ipykernel)",
   "language": "python",
   "name": "python3"
  },
  "language_info": {
   "codemirror_mode": {
    "name": "ipython",
    "version": 3
   },
   "file_extension": ".py",
   "mimetype": "text/x-python",
   "name": "python",
   "nbconvert_exporter": "python",
   "pygments_lexer": "ipython3",
   "version": "3.11.7"
  }
 },
 "nbformat": 4,
 "nbformat_minor": 5
}
