{
 "cells": [
  {
   "cell_type": "code",
   "execution_count": 6,
   "id": "79afd863-3533-4330-aebc-e79d57eedcb2",
   "metadata": {},
   "outputs": [
    {
     "data": {
      "text/plain": [
       "2.653954285714286"
      ]
     },
     "execution_count": 6,
     "metadata": {},
     "output_type": "execute_result"
    }
   ],
   "source": [
    "((6.3333*(0.22))/(52.5))*100"
   ]
  },
  {
   "cell_type": "code",
   "execution_count": null,
   "id": "9a2dcea2-1793-4e0b-9c3f-569c63bbab05",
   "metadata": {},
   "outputs": [],
   "source": []
  }
 ],
 "metadata": {
  "kernelspec": {
   "display_name": "Python 3 (ipykernel)",
   "language": "python",
   "name": "python3"
  },
  "language_info": {
   "codemirror_mode": {
    "name": "ipython",
    "version": 3
   },
   "file_extension": ".py",
   "mimetype": "text/x-python",
   "name": "python",
   "nbconvert_exporter": "python",
   "pygments_lexer": "ipython3",
   "version": "3.11.7"
  }
 },
 "nbformat": 4,
 "nbformat_minor": 5
}
