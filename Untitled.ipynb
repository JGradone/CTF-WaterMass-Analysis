{
 "cells": [
  {
   "cell_type": "code",
   "execution_count": 7,
   "id": "08f7b340-3c6c-40ca-a6bf-c7effe50a32a",
   "metadata": {},
   "outputs": [
    {
     "data": {
      "text/plain": [
       "1.001913875598086"
      ]
     },
     "execution_count": 7,
     "metadata": {},
     "output_type": "execute_result"
    }
   ],
   "source": [
    "(959+88)/(1143-98)"
   ]
  },
  {
   "cell_type": "code",
   "execution_count": null,
   "id": "2e097b30-ac08-47f2-96d9-5edaa68a5872",
   "metadata": {},
   "outputs": [],
   "source": [
    "70"
   ]
  },
  {
   "cell_type": "code",
   "execution_count": null,
   "id": "562e570a-0d2e-4414-9ea3-48469028cc1f",
   "metadata": {},
   "outputs": [],
   "source": []
  },
  {
   "cell_type": "code",
   "execution_count": null,
   "id": "7973b39a-dbe0-4b32-a194-be204a2e2bdb",
   "metadata": {},
   "outputs": [],
   "source": []
  }
 ],
 "metadata": {
  "kernelspec": {
   "display_name": "Python 3 (ipykernel)",
   "language": "python",
   "name": "python3"
  },
  "language_info": {
   "codemirror_mode": {
    "name": "ipython",
    "version": 3
   },
   "file_extension": ".py",
   "mimetype": "text/x-python",
   "name": "python",
   "nbconvert_exporter": "python",
   "pygments_lexer": "ipython3",
   "version": "3.11.7"
  }
 },
 "nbformat": 4,
 "nbformat_minor": 5
}
